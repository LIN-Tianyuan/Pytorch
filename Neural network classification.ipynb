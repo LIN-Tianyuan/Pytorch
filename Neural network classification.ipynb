{
 "cells": [
  {
   "cell_type": "code",
   "execution_count": 1,
   "metadata": {},
   "outputs": [
    {
     "name": "stdout",
     "output_type": "stream",
     "text": [
      "2.1.0\n"
     ]
    }
   ],
   "source": [
    "import torch\n",
    "print(torch.__version__)"
   ]
  },
  {
   "cell_type": "markdown",
   "metadata": {},
   "source": [
    "### Mnist classification task:\n",
    "### Basic network construction and training methods, analysis of commonly used functions\n",
    "### torch.nn.functional module\n",
    "### nn.Module module"
   ]
  },
  {
   "cell_type": "code",
   "execution_count": 10,
   "metadata": {},
   "outputs": [],
   "source": [
    "# Reading the Mnist dataset\n",
    "from pathlib import Path\n",
    "import pickle\n",
    "import gzip\n",
    "\n",
    "DATA_PATH = Path(\"data\")\n",
    "PATH = DATA_PATH / \"mnist\"\n",
    "FILENAME = \"mnist.pkl.gz\"\n",
    "with gzip.open((PATH / FILENAME).as_posix(), \"rb\") as f:\n",
    "        ((x_train, y_train), (x_valid, y_valid), _) = pickle.load(f, encoding=\"latin-1\")"
   ]
  },
  {
   "cell_type": "code",
   "execution_count": 11,
   "metadata": {},
   "outputs": [
    {
     "name": "stdout",
     "output_type": "stream",
     "text": [
      "(50000, 784)\n"
     ]
    },
    {
     "data": {
      "image/png": "[encoded data removed]",
      "text/plain": [
       "<Figure size 640x480 with 1 Axes>"
      ]
     },
     "metadata": {},
     "output_type": "display_data"
    }
   ],
   "source": [
    "from matplotlib import pyplot\n",
    "import numpy as np\n",
    "\n",
    "pyplot.imshow(x_train[0].reshape((28, 28)), cmap=\"gray\")\n",
    "print(x_train.shape)\n",
    "# 784 is the number of pixel points per sample in the mnist dataset"
   ]
  },
  {
   "cell_type": "code",
   "execution_count": 12,
   "metadata": {},
   "outputs": [],
   "source": [
    "# Note that the data needs to be converted into a tensor in order to participate in the subsequent modeling training."
   ]
  },
  {
   "cell_type": "code",
   "execution_count": 13,
   "metadata": {},
   "outputs": [
    {
     "name": "stdout",
     "output_type": "stream",
     "text": [
      "tensor([[0., 0., 0.,  ..., 0., 0., 0.],\n",
      "        [0., 0., 0.,  ..., 0., 0., 0.],\n",
      "        [0., 0., 0.,  ..., 0., 0., 0.],\n",
      "        ...,\n",
      "        [0., 0., 0.,  ..., 0., 0., 0.],\n",
      "        [0., 0., 0.,  ..., 0., 0., 0.],\n",
      "        [0., 0., 0.,  ..., 0., 0., 0.]]) tensor([5, 0, 4,  ..., 8, 4, 8])\n",
      "torch.Size([50000, 784])\n",
      "tensor(0) tensor(9)\n"
     ]
    }
   ],
   "source": [
    "x_train, y_train, x_valid, y_valid = map(\n",
    "    torch.tensor, (x_train, y_train, x_valid, y_valid)\n",
    ")\n",
    "n, c = x_train.shape\n",
    "x_train, x_train.shape, y_train.min(), y_train.max()\n",
    "print(x_train, y_train)\n",
    "print(x_train.shape)\n",
    "print(y_train.min(), y_train.max())"
   ]
  },
  {
   "cell_type": "code",
   "execution_count": 14,
   "metadata": {},
   "outputs": [],
   "source": [
    "import torch.nn.functional as F\n",
    "\n",
    "loss_func = F.cross_entropy\n",
    "\n",
    "def model(xb):\n",
    "    return xb.mm(weights) + bias"
   ]
  },
  {
   "cell_type": "code",
   "execution_count": 15,
   "metadata": {},
   "outputs": [
    {
     "name": "stdout",
     "output_type": "stream",
     "text": [
      "tensor(13.5589, grad_fn=<NllLossBackward0>)\n"
     ]
    }
   ],
   "source": [
    "bs = 64\n",
    "xb = x_train[0:bs]\n",
    "yb = y_train[0:bs]\n",
    "weights = torch.randn([784, 10], dtype = torch.float, requires_grad = True)\n",
    "bs = 64\n",
    "bias = torch.zeros(10, requires_grad=True)\n",
    "\n",
    "print(loss_func(model(xb), yb))"
   ]
  },
  {
   "cell_type": "code",
   "execution_count": 16,
   "metadata": {},
   "outputs": [],
   "source": [
    "from torch import nn\n",
    "\n",
    "class Mnist_NN(nn.Module):\n",
    "    def __init__(self):\n",
    "        super().__init__()\n",
    "        self.hidden1 = nn.Linear(784, 128)\n",
    "        self.hidden2 = nn.Linear(128, 256)\n",
    "        self.out = nn.Linear(256, 10)\n",
    "        self.dropout = nn.Dropout(0, 5)\n",
    "\n",
    "    def forward(self, x):\n",
    "        x = F.relu(self.hidden1(x))\n",
    "        x = self.dropout(x)\n",
    "        x = F.relu(self.hidden2(x))\n",
    "        x = self.dropout(x)\n",
    "        x = self.out(x)\n",
    "        return x"
   ]
  },
  {
   "cell_type": "code",
   "execution_count": 17,
   "metadata": {},
   "outputs": [
    {
     "name": "stdout",
     "output_type": "stream",
     "text": [
      "Mnist_NN(\n",
      "  (hidden1): Linear(in_features=784, out_features=128, bias=True)\n",
      "  (hidden2): Linear(in_features=128, out_features=256, bias=True)\n",
      "  (out): Linear(in_features=256, out_features=10, bias=True)\n",
      "  (dropout): Dropout(p=0, inplace=5)\n",
      ")\n"
     ]
    }
   ],
   "source": [
    "net = Mnist_NN()\n",
    "print(net)"
   ]
  },
  {
   "cell_type": "code",
   "execution_count": 18,
   "metadata": {},
   "outputs": [],
   "source": [
    "# It is possible to print the weights and biases that we have defined in the name"
   ]
  },
  {
   "cell_type": "code",
   "execution_count": 19,
   "metadata": {},
   "outputs": [
    {
     "name": "stdout",
     "output_type": "stream",
     "text": [
      "hidden1.weight Parameter containing:\n",
      "tensor([[-1.3702e-02, -2.6665e-02, -2.1086e-02,  ..., -9.2127e-05,\n",
      "          1.7899e-02, -5.7987e-03],\n",
      "        [ 9.6417e-03,  4.6165e-04, -1.8280e-02,  ..., -2.7166e-02,\n",
      "          3.0257e-03,  6.2561e-03],\n",
      "        [ 5.3429e-03,  1.1913e-02,  1.9953e-02,  ...,  7.4579e-04,\n",
      "          3.3615e-02,  1.3624e-02],\n",
      "        ...,\n",
      "        [-1.1133e-02, -3.4185e-02, -8.4855e-03,  ...,  3.2248e-02,\n",
      "          2.7688e-02, -1.9806e-02],\n",
      "        [ 2.1797e-02, -2.8420e-02, -1.5579e-02,  ..., -1.0801e-02,\n",
      "         -1.1152e-02,  1.7990e-02],\n",
      "        [ 1.1494e-02,  2.6943e-02, -5.8070e-03,  ..., -2.6002e-02,\n",
      "          2.3144e-02, -7.5404e-03]], requires_grad=True) torch.Size([128, 784])\n",
      "hidden1.bias Parameter containing:\n",
      "tensor([-2.0214e-02, -2.2622e-02,  1.9453e-02,  2.5724e-02,  1.0163e-02,\n",
      "         3.1883e-02, -1.1714e-03, -3.1652e-02,  1.7530e-02,  2.1885e-02,\n",
      "         9.2330e-03, -1.5537e-02, -1.1973e-02,  2.9829e-02, -1.8544e-02,\n",
      "        -2.5792e-02, -2.4374e-02, -1.7221e-02,  7.2945e-03, -2.6542e-02,\n",
      "         2.7410e-02, -1.0086e-02,  1.3335e-03, -1.3366e-02,  3.4645e-03,\n",
      "         3.2101e-02, -2.5548e-02, -2.5027e-03, -4.2136e-03,  2.2295e-02,\n",
      "        -1.5421e-02, -8.6711e-04, -5.1365e-03, -5.8475e-03,  2.4402e-02,\n",
      "        -6.1518e-03, -3.3935e-02,  1.1810e-02,  3.5533e-02, -1.7414e-02,\n",
      "        -2.3288e-02,  1.4408e-02,  2.1888e-02, -2.5176e-02,  8.7716e-03,\n",
      "        -1.2674e-02, -3.3675e-03, -2.8942e-02, -3.1124e-02, -3.1331e-02,\n",
      "        -7.1255e-04, -2.2513e-02, -2.3945e-02, -2.3222e-02, -1.1898e-03,\n",
      "         8.0036e-03,  1.6909e-02,  9.2319e-03, -3.2823e-02,  2.1428e-02,\n",
      "        -1.1637e-02, -1.6812e-03,  2.4465e-03, -3.0552e-02, -3.1159e-02,\n",
      "        -1.4987e-02,  1.3601e-02,  1.3054e-03, -2.0194e-02, -1.6766e-02,\n",
      "         2.0874e-02, -3.5580e-02, -4.7880e-03,  4.9678e-03,  1.0733e-02,\n",
      "        -3.2065e-02, -3.5392e-02, -1.5446e-03, -3.2880e-02,  2.4952e-03,\n",
      "        -5.2427e-03, -1.6576e-02, -5.9436e-03,  1.7148e-02,  8.1842e-03,\n",
      "         3.2489e-02,  2.4660e-02, -3.0974e-02,  2.3305e-02,  1.7077e-02,\n",
      "        -2.8270e-02,  2.1836e-02, -1.5333e-02,  1.3389e-02, -2.6598e-03,\n",
      "        -2.5062e-02,  1.9879e-02,  1.8758e-02, -2.7729e-02,  1.2982e-03,\n",
      "        -2.7702e-03, -1.6025e-02,  3.2416e-02,  1.5229e-02,  8.4445e-03,\n",
      "         3.1647e-02, -1.3456e-02, -6.9682e-03,  3.7542e-05,  1.6831e-02,\n",
      "         2.9023e-02, -8.0819e-03, -2.2603e-02, -9.0126e-03,  7.3395e-03,\n",
      "         2.3500e-03,  1.4017e-02,  3.0416e-02,  3.3263e-02, -1.9320e-02,\n",
      "        -4.7409e-03, -2.6518e-02,  1.1042e-02, -8.9613e-03,  3.2534e-02,\n",
      "         8.7662e-03,  2.0623e-02, -3.5352e-02], requires_grad=True) torch.Size([128])\n",
      "hidden2.weight Parameter containing:\n",
      "tensor([[ 0.0106, -0.0737, -0.0095,  ..., -0.0526, -0.0709, -0.0750],\n",
      "        [ 0.0029, -0.0111,  0.0864,  ..., -0.0218, -0.0794,  0.0194],\n",
      "        [-0.0283, -0.0184,  0.0480,  ...,  0.0634,  0.0875, -0.0669],\n",
      "        ...,\n",
      "        [ 0.0501,  0.0510, -0.0776,  ..., -0.0654,  0.0574,  0.0269],\n",
      "        [ 0.0254, -0.0242, -0.0695,  ...,  0.0066, -0.0403, -0.0477],\n",
      "        [-0.0842, -0.0470,  0.0355,  ...,  0.0627, -0.0159,  0.0130]],\n",
      "       requires_grad=True) torch.Size([256, 128])\n",
      "hidden2.bias Parameter containing:\n",
      "tensor([ 0.0787, -0.0126, -0.0283, -0.0689,  0.0658, -0.0704, -0.0576,  0.0802,\n",
      "        -0.0491, -0.0116,  0.0670,  0.0728,  0.0253, -0.0470, -0.0109, -0.0541,\n",
      "         0.0090, -0.0058,  0.0023, -0.0167,  0.0594,  0.0081, -0.0288,  0.0094,\n",
      "        -0.0465, -0.0194, -0.0214,  0.0184,  0.0101, -0.0507, -0.0448, -0.0352,\n",
      "        -0.0812, -0.0838, -0.0521,  0.0037,  0.0657, -0.0829,  0.0420, -0.0069,\n",
      "        -0.0247,  0.0471,  0.0218, -0.0579,  0.0466,  0.0237,  0.0606,  0.0112,\n",
      "        -0.0652, -0.0839, -0.0699, -0.0154, -0.0516, -0.0721,  0.0248,  0.0731,\n",
      "        -0.0241,  0.0136, -0.0037,  0.0176,  0.0389, -0.0119, -0.0766,  0.0400,\n",
      "         0.0878, -0.0082, -0.0672, -0.0293,  0.0034,  0.0083, -0.0228,  0.0079,\n",
      "        -0.0258,  0.0694, -0.0577, -0.0048,  0.0589, -0.0361, -0.0615,  0.0411,\n",
      "         0.0526,  0.0703,  0.0579,  0.0617,  0.0844,  0.0613, -0.0701,  0.0551,\n",
      "        -0.0016, -0.0621,  0.0566,  0.0089, -0.0637,  0.0400,  0.0413,  0.0003,\n",
      "         0.0312,  0.0845, -0.0046, -0.0108,  0.0096,  0.0465,  0.0430, -0.0411,\n",
      "         0.0228,  0.0378, -0.0786, -0.0729,  0.0698, -0.0153,  0.0091, -0.0070,\n",
      "        -0.0752,  0.0797, -0.0151,  0.0684, -0.0759, -0.0883,  0.0726, -0.0326,\n",
      "         0.0840, -0.0219,  0.0759,  0.0412, -0.0580,  0.0435, -0.0762, -0.0602,\n",
      "        -0.0377,  0.0491,  0.0289, -0.0668,  0.0045,  0.0468, -0.0601, -0.0511,\n",
      "         0.0137, -0.0297,  0.0011, -0.0602, -0.0164, -0.0504,  0.0618,  0.0562,\n",
      "        -0.0848, -0.0835, -0.0326,  0.0661, -0.0598, -0.0303,  0.0246,  0.0722,\n",
      "         0.0673, -0.0563, -0.0150, -0.0843,  0.0262,  0.0557, -0.0547, -0.0484,\n",
      "         0.0134,  0.0632, -0.0239, -0.0811, -0.0235, -0.0467,  0.0618,  0.0082,\n",
      "        -0.0820, -0.0174,  0.0158,  0.0780,  0.0291,  0.0769, -0.0381,  0.0602,\n",
      "        -0.0016,  0.0878, -0.0753, -0.0182,  0.0143,  0.0807,  0.0654, -0.0687,\n",
      "        -0.0849, -0.0519, -0.0171, -0.0513, -0.0840, -0.0008,  0.0437, -0.0199,\n",
      "         0.0393,  0.0868,  0.0794, -0.0370, -0.0181, -0.0649,  0.0560, -0.0801,\n",
      "        -0.0270, -0.0037, -0.0194,  0.0479,  0.0076, -0.0667, -0.0046, -0.0353,\n",
      "        -0.0856,  0.0638,  0.0697, -0.0694,  0.0454,  0.0705, -0.0494,  0.0707,\n",
      "         0.0212,  0.0072,  0.0642, -0.0533,  0.0743, -0.0799, -0.0288,  0.0177,\n",
      "         0.0046, -0.0443, -0.0655,  0.0551, -0.0172,  0.0077,  0.0067,  0.0746,\n",
      "        -0.0734,  0.0277,  0.0160, -0.0357,  0.0324,  0.0464, -0.0471,  0.0823,\n",
      "        -0.0856,  0.0368, -0.0548,  0.0487,  0.0028,  0.0552,  0.0658,  0.0750,\n",
      "         0.0266, -0.0108, -0.0002, -0.0284, -0.0132, -0.0602,  0.0210,  0.0101],\n",
      "       requires_grad=True) torch.Size([256])\n",
      "out.weight Parameter containing:\n",
      "tensor([[-0.0051,  0.0394,  0.0097,  ..., -0.0573,  0.0444, -0.0159],\n",
      "        [ 0.0167,  0.0572, -0.0263,  ...,  0.0298,  0.0439, -0.0088],\n",
      "        [ 0.0300, -0.0272, -0.0402,  ..., -0.0136,  0.0591,  0.0486],\n",
      "        ...,\n",
      "        [-0.0203, -0.0101, -0.0194,  ...,  0.0373, -0.0472, -0.0243],\n",
      "        [ 0.0032, -0.0022,  0.0281,  ..., -0.0389, -0.0355, -0.0336],\n",
      "        [ 0.0152, -0.0517,  0.0166,  ...,  0.0090,  0.0013, -0.0290]],\n",
      "       requires_grad=True) torch.Size([10, 256])\n",
      "out.bias Parameter containing:\n",
      "tensor([-0.0350, -0.0072, -0.0464, -0.0479,  0.0421,  0.0604,  0.0527, -0.0006,\n",
      "         0.0412,  0.0282], requires_grad=True) torch.Size([10])\n"
     ]
    }
   ],
   "source": [
    "for name, parameter in net.named_parameters():\n",
    "    print(name, parameter, parameter.size())"
   ]
  },
  {
   "cell_type": "markdown",
   "metadata": {},
   "source": [
    "## Using TensorDataset and DataLoader to Simplify"
   ]
  },
  {
   "cell_type": "code",
   "execution_count": 21,
   "metadata": {},
   "outputs": [],
   "source": [
    "from torch.utils.data import TensorDataset\n",
    "from torch.utils.data import DataLoader\n",
    "\n",
    "train_ds = TensorDataset(x_train, y_train)\n",
    "train_dl = DataLoader(train_ds, batch_size=bs, shuffle=True)\n",
    "\n",
    "valid_ds = TensorDataset(x_valid, y_valid)\n",
    "valid_dl = DataLoader(valid_ds, batch_size=bs * 2)"
   ]
  },
  {
   "cell_type": "code",
   "execution_count": 22,
   "metadata": {},
   "outputs": [],
   "source": [
    "def get_data(train_ds, valid_ds, bs):\n",
    "    return (\n",
    "        DataLoader(train_ds, batch_size=bs, shuffle=True),\n",
    "        DataLoader(valid_ds, batch_size=bs * 2),\n",
    "    )"
   ]
  },
  {
   "cell_type": "code",
   "execution_count": 24,
   "metadata": {},
   "outputs": [],
   "source": [
    "# Generally add model.train() when training the model, so that Batch Normalization and Dropout will be used normally.\n",
    "# Generally choose model.eval() when testing the model, so that Batch Normalization and Dropout will not be used."
   ]
  },
  {
   "cell_type": "code",
   "execution_count": 27,
   "metadata": {},
   "outputs": [],
   "source": [
    "# Usage of zip"
   ]
  },
  {
   "cell_type": "code",
   "execution_count": 28,
   "metadata": {},
   "outputs": [
    {
     "name": "stdout",
     "output_type": "stream",
     "text": [
      "[(1, 4), (2, 5), (3, 6)]\n",
      "(1, 2, 3)\n",
      "(4, 5, 6)\n"
     ]
    }
   ],
   "source": [
    "a = [1, 2, 3]\n",
    "b = [4, 5, 6]\n",
    "zipped = zip(a, b)\n",
    "print(list(zipped))\n",
    "a2, b2 = zip(*zip(a, b))\n",
    "print(a2)\n",
    "print(b2)"
   ]
  },
  {
   "cell_type": "code",
   "execution_count": 26,
   "metadata": {},
   "outputs": [],
   "source": [
    "import numpy as np\n",
    "\n",
    "def fit(steps, model, loss_func, opt, train_dl, valid_dl):\n",
    "    for step in range(steps):\n",
    "        model.train()\n",
    "        for xb, yb in train_dl:\n",
    "            loss_batch(model, loss_func, xb, yb, opt)\n",
    "\n",
    "        model.eval()\n",
    "        with torch.no_grad():\n",
    "            losses, nums = zip(\n",
    "                *[loss_batch(model, loss_func, xb, yb) for xb, yb in valid_dl]\n",
    "            )\n",
    "        val_loss = np.sum(np.multiply(losses, nums)) / np.sum(nums)\n",
    "        print('Current step: '+ str(step), 'Validation set loss: '+ str(val_loss))"
   ]
  },
  {
   "cell_type": "code",
   "execution_count": 34,
   "metadata": {},
   "outputs": [],
   "source": [
    "from torch import optim\n",
    "def get_model():\n",
    "    model = Mnist_NN()\n",
    "    return model, optim.Adam(model.parameters(), lr=0.001) # Adam"
   ]
  },
  {
   "cell_type": "code",
   "execution_count": 35,
   "metadata": {},
   "outputs": [],
   "source": [
    "def loss_batch(model, loss_func, xb, yb, opt=None):\n",
    "    loss = loss_func(model(xb), yb)\n",
    "\n",
    "    if opt is not None:\n",
    "        loss.backward()\n",
    "        opt.step()\n",
    "        opt.zero_grad()\n",
    "    return loss.item(), len(xb)"
   ]
  },
  {
   "cell_type": "code",
   "execution_count": 36,
   "metadata": {},
   "outputs": [
    {
     "name": "stdout",
     "output_type": "stream",
     "text": [
      "Current step: 0 Validation set loss: 0.16085202368795873\n",
      "Current step: 1 Validation set loss: 0.11706690677702426\n",
      "Current step: 2 Validation set loss: 0.10161803787201643\n",
      "Current step: 3 Validation set loss: 0.08986214860808105\n",
      "Current step: 4 Validation set loss: 0.08974857210982591\n",
      "Current step: 5 Validation set loss: 0.10015111278975382\n",
      "Current step: 6 Validation set loss: 0.09764886646573431\n",
      "Current step: 7 Validation set loss: 0.09260587435039924\n",
      "Current step: 8 Validation set loss: 0.09464787554886425\n",
      "Current step: 9 Validation set loss: 0.09225057169409119\n",
      "Current step: 10 Validation set loss: 0.10755239833021042\n",
      "Current step: 11 Validation set loss: 0.10347352268774557\n",
      "Current step: 12 Validation set loss: 0.11411454963016149\n",
      "Current step: 13 Validation set loss: 0.10532855942952737\n",
      "Current step: 14 Validation set loss: 0.14395488545852714\n",
      "Current step: 15 Validation set loss: 0.1145674369691831\n",
      "Current step: 16 Validation set loss: 0.12807690756600132\n",
      "Current step: 17 Validation set loss: 0.12503223779460987\n",
      "Current step: 18 Validation set loss: 0.13556642043848988\n",
      "Current step: 19 Validation set loss: 0.1247010383959685\n"
     ]
    }
   ],
   "source": [
    "train_dl, valid_dl = get_data(train_ds, valid_ds, bs)\n",
    "model, opt = get_model()\n",
    "fit(20, model, loss_func, opt, train_dl, valid_dl)"
   ]
  },
  {
   "cell_type": "code",
   "execution_count": 37,
   "metadata": {},
   "outputs": [
    {
     "name": "stdout",
     "output_type": "stream",
     "text": [
      "Accuracy of the network on the 10000 test images: 97 %\n"
     ]
    }
   ],
   "source": [
    "correct = 0\n",
    "total = 0\n",
    "for xb, yb in valid_dl:\n",
    "    outputs = model(xb)\n",
    "    _, predicated = torch.max(outputs.data, 1) # Maximum value and index\n",
    "    total += yb.size(0)\n",
    "    correct += (predicated == yb).sum().item()\n",
    "\n",
    "print('Accuracy of the network on the 10000 test images: %d %%' % (100 * correct / total))"
   ]
  },
  {
   "cell_type": "markdown",
   "metadata": {},
   "source": [
    "### \n",
    " - SGD 20epoch 88%\n",
    " - ADAM 20epoch 97%"
   ]
  },
  {
   "cell_type": "code",
   "execution_count": null,
   "metadata": {},
   "outputs": [],
   "source": []
  }
 ],
 "metadata": {
  "kernelspec": {
   "display_name": "Python 3 (ipykernel)",
   "language": "python",
   "name": "python3"
  },
  "language_info": {
   "codemirror_mode": {
    "name": "ipython",
    "version": 3
   },
   "file_extension": ".py",
   "mimetype": "text/x-python",
   "name": "python",
   "nbconvert_exporter": "python",
   "pygments_lexer": "ipython3",
   "version": "3.8.18"
  }
 },
 "nbformat": 4,
 "nbformat_minor": 4
}
