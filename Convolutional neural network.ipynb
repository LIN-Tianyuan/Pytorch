{
 "cells": [
  {
   "cell_type": "code",
   "execution_count": 1,
   "id": "9224d734-2a6a-4627-b687-9c815a0c412d",
   "metadata": {},
   "outputs": [
    {
     "name": "stdout",
     "output_type": "stream",
     "text": [
      "Retrieving notices: ...working... done\n",
      "Channels:\n",
      " - defaults\n",
      "Platform: osx-64\n",
      "Collecting package metadata (repodata.json): done\n",
      "Solving environment: done\n",
      "\n",
      "# All requested packages already installed.\n",
      "\n",
      "Channels:\n",
      " - defaults\n",
      "Platform: osx-64\n",
      "Collecting package metadata (repodata.json): done\n",
      "Solving environment: failed\n",
      "\n",
      "PackagesNotFoundError: The following packages are not available from current channels:\n",
      "\n",
      "  - torch\n",
      "\n",
      "Current channels:\n",
      "\n",
      "  - defaults\n",
      "\n",
      "To search for alternate channels that may provide the conda package you're\n",
      "looking for, navigate to\n",
      "\n",
      "    https://anaconda.org\n",
      "\n",
      "and use the search bar at the top of the page.\n",
      "\n",
      "\n"
     ]
    }
   ],
   "source": [
    "!conda install torchvision --yes\n",
    "!conda install torch --yes"
   ]
  },
  {
   "cell_type": "code",
   "execution_count": 2,
   "id": "5c0a42f1-87a4-423a-8cb3-ea299ef1eeaf",
   "metadata": {},
   "outputs": [],
   "source": [
    "import torch\n",
    "import torch.nn as nn\n",
    "import torch.optim as optim\n",
    "import torch.nn.functional as F\n",
    "from torchvision import datasets,transforms \n",
    "import matplotlib.pyplot as plt\n",
    "import numpy as np\n",
    "%matplotlib inline"
   ]
  },
  {
   "cell_type": "code",
   "execution_count": 3,
   "id": "985fdbde-a364-4353-b9b5-5fd4c00916ef",
   "metadata": {},
   "outputs": [
    {
     "name": "stdout",
     "output_type": "stream",
     "text": [
      "3.8.18 (default, Sep 11 2023, 08:17:33) \n",
      "[Clang 14.0.6 ]\n"
     ]
    }
   ],
   "source": [
    "import sys\n",
    "print(sys.version)"
   ]
  },
  {
   "cell_type": "code",
   "execution_count": 4,
   "id": "5436d896-a70f-413d-9df5-13e43e14287a",
   "metadata": {},
   "outputs": [],
   "source": [
    "# Defining hyperparameters\n",
    "input_size = 28  # Total size of the image 28*28\n",
    "num_classes = 10  # Number of types of labels\n",
    "num_epochs = 3  # Total cycle time of training\n",
    "batch_size = 64  # One handful (batch) size, 64 images\n",
    "\n",
    "# Train set\n",
    "train_dataset = datasets.MNIST(root='./data',  \n",
    "                            train=True,   \n",
    "                            transform=transforms.ToTensor(),  \n",
    "                            download=True) \n",
    "\n",
    "# Test set\n",
    "test_dataset = datasets.MNIST(root='./data', \n",
    "                           train=False, \n",
    "                           transform=transforms.ToTensor())\n",
    "\n",
    "# Building batch data\n",
    "train_loader = torch.utils.data.DataLoader(dataset=train_dataset, \n",
    "                                           batch_size=batch_size, \n",
    "                                           shuffle=True)\n",
    "test_loader = torch.utils.data.DataLoader(dataset=test_dataset, \n",
    "                                           batch_size=batch_size, \n",
    "                                           shuffle=True)"
   ]
  },
  {
   "cell_type": "markdown",
   "id": "c8ed97a7",
   "metadata": {},
   "source": [
    "### Convolutional network module construction\n",
    "- Generally, the convolution, relu and pooling layers can be written as a package.\n",
    "- Note that the final result of convolution is still a feature map, which needs to be converted into a vector to do classification or regression tasks."
   ]
  },
  {
   "cell_type": "code",
   "execution_count": 5,
   "id": "e534f326",
   "metadata": {},
   "outputs": [],
   "source": [
    "class CNN(nn.Module):\n",
    "    def __init__(self):\n",
    "        super(CNN, self).__init__()\n",
    "        self.conv1 = nn.Sequential(  # Input size (1, 28, 28)\n",
    "            nn.Conv2d(\n",
    "                in_channels=1,    # grayscale image\n",
    "                out_channels=16,  # How many feature maps to get\n",
    "                kernel_size=5,    # Convolution kernel size\n",
    "                stride=1,         # footsteps\n",
    "                padding=2         # If you want the convolution to be the same size as the original, you need to set padding=(kernel_size-1)/2 if stride=1\n",
    "            ),\n",
    "            nn.ReLU(),            # Relu layer\n",
    "            nn.MaxPool2d(kernel_size=2), # Perform pooling operation (2x2 region), the output is: (16, 14, 14)\n",
    "        )\n",
    "        self.conv2 = nn.Sequential(         # Input for the next package (16, 14, 14)\n",
    "            nn.Conv2d(16, 32, 5, 1, 2),     # Output (32, 14, 14)\n",
    "            nn.ReLU(),                      # Relu layer\n",
    "            nn.Conv2d(32, 32, 5, 1, 2),\n",
    "            nn.ReLU(),\n",
    "            nn.MaxPool2d(2),                # Output (32, 7, 7)\n",
    "        )\n",
    "        self.conv3 = nn.Sequential(         # Input for the next package (16, 14, 14)\n",
    "            nn.Conv2d(32, 64, 5, 1, 2),     #  (32, 14, 14)\n",
    "            nn.ReLU(),                      # Output (64, 7, 7)\n",
    "        )\n",
    "        \n",
    "        self.out = nn.Linear(64 * 7 * 7, 10)   # Results obtained from the fully connected layer\n",
    "    \n",
    "    def forward(self, x):\n",
    "        x = self.conv1(x)\n",
    "        x = self.conv2(x)\n",
    "        x = self.conv3(x)\n",
    "        x = x.view(x.size(0), -1)           # flatten operation resulting in: (batch_size, 32 * 7 * 7)\n",
    "        output = self.out(x)\n",
    "        return output\n",
    "        "
   ]
  },
  {
   "cell_type": "markdown",
   "id": "c407d48d",
   "metadata": {},
   "source": [
    "### Accuracy as an assessment criterion"
   ]
  },
  {
   "cell_type": "code",
   "execution_count": 6,
   "id": "869e7f66",
   "metadata": {},
   "outputs": [],
   "source": [
    "def accuracy(predictions, labels):\n",
    "    pred = torch.max(predictions.data, 1)[1] \n",
    "    rights = pred.eq(labels.data.view_as(pred)).sum() \n",
    "    return rights, len(labels) "
   ]
  },
  {
   "cell_type": "markdown",
   "id": "4f6e6cf0",
   "metadata": {},
   "source": [
    "### Train the network model"
   ]
  },
  {
   "cell_type": "code",
   "execution_count": 7,
   "id": "aaeabf5a",
   "metadata": {},
   "outputs": [
    {
     "name": "stdout",
     "output_type": "stream",
     "text": [
      "Current epoch: 0 [0/60000 (0%)]\t Loss: 2.302157\tTrain set accuracy: 10.94%\tTest Set accuracy: 9.74%\n",
      "Current epoch: 0 [6400/60000 (11%)]\t Loss: 0.314603\tTrain set accuracy: 78.17%\tTest Set accuracy: 95.29%\n",
      "Current epoch: 0 [12800/60000 (21%)]\t Loss: 0.091689\tTrain set accuracy: 86.64%\tTest Set accuracy: 96.14%\n",
      "Current epoch: 0 [19200/60000 (32%)]\t Loss: 0.203928\tTrain set accuracy: 90.02%\tTest Set accuracy: 96.70%\n",
      "Current epoch: 0 [25600/60000 (43%)]\t Loss: 0.124109\tTrain set accuracy: 91.77%\tTest Set accuracy: 97.82%\n",
      "Current epoch: 0 [32000/60000 (53%)]\t Loss: 0.062710\tTrain set accuracy: 92.95%\tTest Set accuracy: 98.06%\n",
      "Current epoch: 0 [38400/60000 (64%)]\t Loss: 0.002474\tTrain set accuracy: 93.72%\tTest Set accuracy: 98.39%\n",
      "Current epoch: 0 [44800/60000 (75%)]\t Loss: 0.066669\tTrain set accuracy: 94.36%\tTest Set accuracy: 98.93%\n",
      "Current epoch: 0 [51200/60000 (85%)]\t Loss: 0.072030\tTrain set accuracy: 94.83%\tTest Set accuracy: 98.38%\n",
      "Current epoch: 0 [57600/60000 (96%)]\t Loss: 0.121598\tTrain set accuracy: 95.22%\tTest Set accuracy: 98.59%\n",
      "Current epoch: 1 [0/60000 (0%)]\t Loss: 0.005454\tTrain set accuracy: 100.00%\tTest Set accuracy: 98.84%\n",
      "Current epoch: 1 [6400/60000 (11%)]\t Loss: 0.052638\tTrain set accuracy: 98.51%\tTest Set accuracy: 98.86%\n",
      "Current epoch: 1 [12800/60000 (21%)]\t Loss: 0.005923\tTrain set accuracy: 98.67%\tTest Set accuracy: 98.86%\n",
      "Current epoch: 1 [19200/60000 (32%)]\t Loss: 0.028904\tTrain set accuracy: 98.66%\tTest Set accuracy: 98.72%\n",
      "Current epoch: 1 [25600/60000 (43%)]\t Loss: 0.016543\tTrain set accuracy: 98.68%\tTest Set accuracy: 98.28%\n",
      "Current epoch: 1 [32000/60000 (53%)]\t Loss: 0.014429\tTrain set accuracy: 98.66%\tTest Set accuracy: 98.73%\n",
      "Current epoch: 1 [38400/60000 (64%)]\t Loss: 0.013393\tTrain set accuracy: 98.65%\tTest Set accuracy: 98.61%\n",
      "Current epoch: 1 [44800/60000 (75%)]\t Loss: 0.002826\tTrain set accuracy: 98.63%\tTest Set accuracy: 99.02%\n",
      "Current epoch: 1 [51200/60000 (85%)]\t Loss: 0.008026\tTrain set accuracy: 98.67%\tTest Set accuracy: 99.08%\n",
      "Current epoch: 1 [57600/60000 (96%)]\t Loss: 0.014056\tTrain set accuracy: 98.69%\tTest Set accuracy: 98.89%\n",
      "Current epoch: 2 [0/60000 (0%)]\t Loss: 0.041453\tTrain set accuracy: 98.44%\tTest Set accuracy: 98.82%\n",
      "Current epoch: 2 [6400/60000 (11%)]\t Loss: 0.003642\tTrain set accuracy: 99.18%\tTest Set accuracy: 98.96%\n",
      "Current epoch: 2 [12800/60000 (21%)]\t Loss: 0.114504\tTrain set accuracy: 99.14%\tTest Set accuracy: 99.11%\n",
      "Current epoch: 2 [19200/60000 (32%)]\t Loss: 0.005644\tTrain set accuracy: 99.09%\tTest Set accuracy: 99.00%\n",
      "Current epoch: 2 [25600/60000 (43%)]\t Loss: 0.001499\tTrain set accuracy: 99.10%\tTest Set accuracy: 99.18%\n",
      "Current epoch: 2 [32000/60000 (53%)]\t Loss: 0.060546\tTrain set accuracy: 99.10%\tTest Set accuracy: 99.15%\n",
      "Current epoch: 2 [38400/60000 (64%)]\t Loss: 0.004371\tTrain set accuracy: 99.10%\tTest Set accuracy: 99.01%\n",
      "Current epoch: 2 [44800/60000 (75%)]\t Loss: 0.004841\tTrain set accuracy: 99.07%\tTest Set accuracy: 99.02%\n",
      "Current epoch: 2 [51200/60000 (85%)]\t Loss: 0.050491\tTrain set accuracy: 99.07%\tTest Set accuracy: 99.12%\n",
      "Current epoch: 2 [57600/60000 (96%)]\t Loss: 0.045091\tTrain set accuracy: 99.06%\tTest Set accuracy: 99.08%\n"
     ]
    }
   ],
   "source": [
    "# Instantiated\n",
    "net = CNN() \n",
    "# Loss function\n",
    "criterion = nn.CrossEntropyLoss() \n",
    "# Optimizer\n",
    "optimizer = optim.Adam(net.parameters(), lr=0.001) # Define optimizer, ordinary stochastic gradient descent algorithm\n",
    "\n",
    "# Start training cycle\n",
    "for epoch in range(num_epochs):\n",
    "    # The result of the current epoch is saved\n",
    "    train_rights = [] \n",
    "    \n",
    "    for batch_idx, (data, target) in enumerate(train_loader):  # Loop for each batch in the container\n",
    "        net.train()                             \n",
    "        output = net(data) # Predicted value\n",
    "        loss = criterion(output, target) # Loss value\n",
    "        optimizer.zero_grad() # Gradient clearing\n",
    "        loss.backward() # Backward propagation\n",
    "        optimizer.step() # Parameter update\n",
    "        right = accuracy(output, target) # How many get right\n",
    "        train_rights.append(right) # Save the right\n",
    "\n",
    "    \n",
    "        if batch_idx % 100 == 0: \n",
    "            \n",
    "            net.eval() # Verification mode\n",
    "            val_rights = [] \n",
    "            \n",
    "            for (data, target) in test_loader:\n",
    "                output = net(data) \n",
    "                right = accuracy(output, target) \n",
    "                val_rights.append(right)\n",
    "                \n",
    "            # Calculation of accuracy\n",
    "            train_r = (sum([tup[0] for tup in train_rights]), sum([tup[1] for tup in train_rights]))\n",
    "            val_r = (sum([tup[0] for tup in val_rights]), sum([tup[1] for tup in val_rights]))\n",
    "\n",
    "            print('Current epoch: {} [{}/{} ({:.0f}%)]\\t Loss: {:.6f}\\tTrain set accuracy: {:.2f}%\\tTest Set accuracy: {:.2f}%'.format(\n",
    "                epoch, batch_idx * batch_size, len(train_loader.dataset),\n",
    "                100. * batch_idx / len(train_loader), \n",
    "                loss.data, \n",
    "                100. * train_r[0].numpy() / train_r[1], \n",
    "                100. * val_r[0].numpy() / val_r[1]))"
   ]
  }
 ],
 "metadata": {
  "kernelspec": {
   "display_name": "Python [conda env:root] *",
   "language": "python",
   "name": "conda-root-py"
  },
  "language_info": {
   "codemirror_mode": {
    "name": "ipython",
    "version": 3
   },
   "file_extension": ".py",
   "mimetype": "text/x-python",
   "name": "python",
   "nbconvert_exporter": "python",
   "pygments_lexer": "ipython3",
   "version": "3.8.18"
  },
  "toc": {
   "base_numbering": 1,
   "nav_menu": {},
   "number_sections": true,
   "sideBar": true,
   "skip_h1_title": false,
   "title_cell": "Table of Contents",
   "title_sidebar": "Contents",
   "toc_cell": false,
   "toc_position": {},
   "toc_section_display": true,
   "toc_window_display": false
  }
 },
 "nbformat": 4,
 "nbformat_minor": 5
}
