{
 "cells": [
  {
   "cell_type": "markdown",
   "id": "cb72745a",
   "metadata": {},
   "source": [
    "# Training Image Classification Models Based on Classical Network Architecture"
   ]
  },
  {
   "cell_type": "markdown",
   "id": "1539a67e",
   "metadata": {},
   "source": [
    "## Steps\n",
    "### Data preprocessing section:\n",
    "\n",
    " - Data enhancement: the transforms module in torchvision comes with its own function, which is more practical.\n",
    " - Data preprocessing: the transforms module in torchvision also helps us to realize it, so we can call it directly.\n",
    " - DataLoader module reads batch data directly.\n",
    "\n",
    "### DataLoader module reads batch data directly:\n",
    "\n",
    " - Load the pre-training model, torchvision has a lot of classic network architecture, it's very convenient to call, and you can use other people's well-trained weight parameters to continue training, which is also known as migration learning.\n",
    " - It is important to note that other people's trained tasks are not exactly the same as ours, we need to change the last head layer, usually the last fully connected layer, into our own task.\n",
    " - When training, we can re-train all the layers, or we can only train the last layer of our task, because the first few layers are for feature extraction, and the essential goal of the task is the same.\n",
    "\n",
    "### Network model saving and testing:\n",
    " - The model can be saved selectively, for example, in the validation set, if the current effect is good, then save the model.\n",
    " - Read the model for actual testing."
   ]
  },
  {
   "cell_type": "code",
   "execution_count": 1,
   "id": "f06e37b2",
   "metadata": {},
   "outputs": [],
   "source": [
    "import os\n",
    "import matplotlib.pyplot as plt\n",
    "%matplotlib inline\n",
    "import numpy as np\n",
    "import torch\n",
    "from torch import nn\n",
    "import torch.optim as optim\n",
    "import torchvision\n",
    "#pip install torchvision\n",
    "from torchvision import transforms, models, datasets\n",
    "#https://pytorch.org/docs/stable/torchvision/index.html\n",
    "import imageio\n",
    "import time\n",
    "import warnings\n",
    "warnings.filterwarnings(\"ignore\")\n",
    "import random\n",
    "import sys\n",
    "import copy\n",
    "import json\n",
    "from PIL import Image"
   ]
  },
  {
   "cell_type": "markdown",
   "id": "8a5e64e8",
   "metadata": {},
   "source": [
    "## Data reading and pre-processing operations"
   ]
  },
  {
   "cell_type": "code",
   "execution_count": 2,
   "id": "96246837",
   "metadata": {},
   "outputs": [],
   "source": [
    "data_dir = './flower_data/'\n",
    "train_dir = data_dir + '/train'\n",
    "valid_dir = data_dir + '/valid'"
   ]
  },
  {
   "cell_type": "markdown",
   "id": "5ca846c1",
   "metadata": {},
   "source": [
    "## Make a good data source:\n",
    "- All image preprocessing operations are specified in data_transforms\n",
    "- ImageFolder assumes that all files are stored in folders, and that each folder contains images of the same category, with the name of the folder being the name of the category."
   ]
  },
  {
   "cell_type": "code",
   "execution_count": 3,
   "id": "27dd6646",
   "metadata": {},
   "outputs": [],
   "source": [
    "data_transforms = {\n",
    "    'train': \n",
    "        transforms.Compose([\n",
    "        transforms.Resize([96, 96]), # Uniform image size\n",
    "        # Data Augmentation\n",
    "        transforms.RandomRotation(45),# Random rotation, randomly selected between -45 and 45 degrees\n",
    "        transforms.CenterCrop(64),# Trimming from the center\n",
    "        transforms.RandomHorizontalFlip(p=0.5),# Random Horizontal Flip Select a probability\n",
    "        transforms.RandomVerticalFlip(p=0.5),# Random vertical flip\n",
    "        transforms.ColorJitter(brightness=0.2, contrast=0.1, saturation=0.1, hue=0.1),# Parameter 1 is Brightness, Parameter 2 is Contrast, Parameter 3 is Saturation, Parameter 4 is Hue\n",
    "        transforms.RandomGrayscale(p=0.025),# The probability is converted to gray rate, and the 3-channel is R=G=B\n",
    "        transforms.ToTensor(), # Converting data to tensor\n",
    "        transforms.Normalize([0.485, 0.456, 0.406], [0.229, 0.224, 0.225])# Normalization, Mean, standard deviation\n",
    "    ]),\n",
    "    'valid': \n",
    "        transforms.Compose([\n",
    "        transforms.Resize([64, 64]), # Ensure training and test sizes are the same\n",
    "        transforms.ToTensor(),\n",
    "        transforms.Normalize([0.485, 0.456, 0.406], [0.229, 0.224, 0.225])\n",
    "    ]),\n",
    "}"
   ]
  },
  {
   "cell_type": "code",
   "execution_count": 4,
   "id": "63a829d5",
   "metadata": {},
   "outputs": [],
   "source": [
    "batch_size = 128\n",
    "\n",
    "image_datasets = {x: datasets.ImageFolder(os.path.join(data_dir, x), data_transforms[x]) for x in ['train', 'valid']}\n",
    "dataloaders = {x: torch.utils.data.DataLoader(image_datasets[x], batch_size=batch_size, shuffle=True) for x in ['train', 'valid']}\n",
    "dataset_sizes = {x: len(image_datasets[x]) for x in ['train', 'valid']}\n",
    "class_names = image_datasets['train'].classes"
   ]
  },
  {
   "cell_type": "code",
   "execution_count": 5,
   "id": "d136fed7",
   "metadata": {},
   "outputs": [
    {
     "data": {
      "text/plain": [
       "{'train': Dataset ImageFolder\n",
       "     Number of datapoints: 6552\n",
       "     Root location: ./flower_data/train\n",
       "     StandardTransform\n",
       " Transform: Compose(\n",
       "                Resize(size=[96, 96], interpolation=bilinear, max_size=None, antialias=warn)\n",
       "                RandomRotation(degrees=[-45.0, 45.0], interpolation=nearest, expand=False, fill=0)\n",
       "                CenterCrop(size=(64, 64))\n",
       "                RandomHorizontalFlip(p=0.5)\n",
       "                RandomVerticalFlip(p=0.5)\n",
       "                ColorJitter(brightness=(0.8, 1.2), contrast=(0.9, 1.1), saturation=(0.9, 1.1), hue=(-0.1, 0.1))\n",
       "                RandomGrayscale(p=0.025)\n",
       "                ToTensor()\n",
       "                Normalize(mean=[0.485, 0.456, 0.406], std=[0.229, 0.224, 0.225])\n",
       "            ),\n",
       " 'valid': Dataset ImageFolder\n",
       "     Number of datapoints: 818\n",
       "     Root location: ./flower_data/valid\n",
       "     StandardTransform\n",
       " Transform: Compose(\n",
       "                Resize(size=[64, 64], interpolation=bilinear, max_size=None, antialias=warn)\n",
       "                ToTensor()\n",
       "                Normalize(mean=[0.485, 0.456, 0.406], std=[0.229, 0.224, 0.225])\n",
       "            )}"
      ]
     },
     "execution_count": 5,
     "metadata": {},
     "output_type": "execute_result"
    }
   ],
   "source": [
    "image_datasets"
   ]
  },
  {
   "cell_type": "code",
   "execution_count": 6,
   "id": "119d77bf",
   "metadata": {},
   "outputs": [
    {
     "data": {
      "text/plain": [
       "{'train': <torch.utils.data.dataloader.DataLoader at 0x7f8a3ea941f0>,\n",
       " 'valid': <torch.utils.data.dataloader.DataLoader at 0x7f8a3ea94220>}"
      ]
     },
     "execution_count": 6,
     "metadata": {},
     "output_type": "execute_result"
    }
   ],
   "source": [
    "dataloaders"
   ]
  },
  {
   "cell_type": "code",
   "execution_count": 7,
   "id": "fa5434f3",
   "metadata": {},
   "outputs": [
    {
     "data": {
      "text/plain": [
       "{'train': 6552, 'valid': 818}"
      ]
     },
     "execution_count": 7,
     "metadata": {},
     "output_type": "execute_result"
    }
   ],
   "source": [
    "dataset_sizes"
   ]
  },
  {
   "cell_type": "markdown",
   "id": "f4492464",
   "metadata": {},
   "source": [
    "## Read the actual name corresponding to the tag"
   ]
  },
  {
   "cell_type": "code",
   "execution_count": 8,
   "id": "52199aa8",
   "metadata": {},
   "outputs": [],
   "source": [
    "with open('cat_to_name.json', 'r') as f:\n",
    "    cat_to_name = json.load(f)"
   ]
  },
  {
   "cell_type": "code",
   "execution_count": 9,
   "id": "a43a1a94",
   "metadata": {},
   "outputs": [
    {
     "data": {
      "text/plain": [
       "{'21': 'fire lily',\n",
       " '3': 'canterbury bells',\n",
       " '45': 'bolero deep blue',\n",
       " '1': 'pink primrose',\n",
       " '34': 'mexican aster',\n",
       " '27': 'prince of wales feathers',\n",
       " '7': 'moon orchid',\n",
       " '16': 'globe-flower',\n",
       " '25': 'grape hyacinth',\n",
       " '26': 'corn poppy',\n",
       " '79': 'toad lily',\n",
       " '39': 'siam tulip',\n",
       " '24': 'red ginger',\n",
       " '67': 'spring crocus',\n",
       " '35': 'alpine sea holly',\n",
       " '32': 'garden phlox',\n",
       " '10': 'globe thistle',\n",
       " '6': 'tiger lily',\n",
       " '93': 'ball moss',\n",
       " '33': 'love in the mist',\n",
       " '9': 'monkshood',\n",
       " '102': 'blackberry lily',\n",
       " '14': 'spear thistle',\n",
       " '19': 'balloon flower',\n",
       " '100': 'blanket flower',\n",
       " '13': 'king protea',\n",
       " '49': 'oxeye daisy',\n",
       " '15': 'yellow iris',\n",
       " '61': 'cautleya spicata',\n",
       " '31': 'carnation',\n",
       " '64': 'silverbush',\n",
       " '68': 'bearded iris',\n",
       " '63': 'black-eyed susan',\n",
       " '69': 'windflower',\n",
       " '62': 'japanese anemone',\n",
       " '20': 'giant white arum lily',\n",
       " '38': 'great masterwort',\n",
       " '4': 'sweet pea',\n",
       " '86': 'tree mallow',\n",
       " '101': 'trumpet creeper',\n",
       " '42': 'daffodil',\n",
       " '22': 'pincushion flower',\n",
       " '2': 'hard-leaved pocket orchid',\n",
       " '54': 'sunflower',\n",
       " '66': 'osteospermum',\n",
       " '70': 'tree poppy',\n",
       " '85': 'desert-rose',\n",
       " '99': 'bromelia',\n",
       " '87': 'magnolia',\n",
       " '5': 'english marigold',\n",
       " '92': 'bee balm',\n",
       " '28': 'stemless gentian',\n",
       " '97': 'mallow',\n",
       " '57': 'gaura',\n",
       " '40': 'lenten rose',\n",
       " '47': 'marigold',\n",
       " '59': 'orange dahlia',\n",
       " '48': 'buttercup',\n",
       " '55': 'pelargonium',\n",
       " '36': 'ruby-lipped cattleya',\n",
       " '91': 'hippeastrum',\n",
       " '29': 'artichoke',\n",
       " '71': 'gazania',\n",
       " '90': 'canna lily',\n",
       " '18': 'peruvian lily',\n",
       " '98': 'mexican petunia',\n",
       " '8': 'bird of paradise',\n",
       " '30': 'sweet william',\n",
       " '17': 'purple coneflower',\n",
       " '52': 'wild pansy',\n",
       " '84': 'columbine',\n",
       " '12': \"colt's foot\",\n",
       " '11': 'snapdragon',\n",
       " '96': 'camellia',\n",
       " '23': 'fritillary',\n",
       " '50': 'common dandelion',\n",
       " '44': 'poinsettia',\n",
       " '53': 'primula',\n",
       " '72': 'azalea',\n",
       " '65': 'californian poppy',\n",
       " '80': 'anthurium',\n",
       " '76': 'morning glory',\n",
       " '37': 'cape flower',\n",
       " '56': 'bishop of llandaff',\n",
       " '60': 'pink-yellow dahlia',\n",
       " '82': 'clematis',\n",
       " '58': 'geranium',\n",
       " '75': 'thorn apple',\n",
       " '41': 'barbeton daisy',\n",
       " '95': 'bougainvillea',\n",
       " '43': 'sword lily',\n",
       " '83': 'hibiscus',\n",
       " '78': 'lotus lotus',\n",
       " '88': 'cyclamen',\n",
       " '94': 'foxglove',\n",
       " '81': 'frangipani',\n",
       " '74': 'rose',\n",
       " '89': 'watercress',\n",
       " '73': 'water lily',\n",
       " '46': 'wallflower',\n",
       " '77': 'passion flower',\n",
       " '51': 'petunia'}"
      ]
     },
     "execution_count": 9,
     "metadata": {},
     "output_type": "execute_result"
    }
   ],
   "source": [
    "cat_to_name"
   ]
  },
  {
   "cell_type": "markdown",
   "id": "968414f9",
   "metadata": {},
   "source": [
    "## Load the model provided in the models, and use the trained weights as initialization parameters."
   ]
  },
  {
   "cell_type": "code",
   "execution_count": 10,
   "id": "d70a901a",
   "metadata": {},
   "outputs": [],
   "source": [
    "model_name = 'resnet'  # There are more options available ['resnet', 'alexnet', 'vgg', 'squeezenet', 'densenet', 'inception']\n",
    "# Whether to use people's trained features for\n",
    "feature_extract = True"
   ]
  },
  {
   "cell_type": "code",
   "execution_count": 11,
   "id": "2924f221",
   "metadata": {},
   "outputs": [
    {
     "name": "stdout",
     "output_type": "stream",
     "text": [
      "CUDA is not available.  Training on CPU ...\n"
     ]
    }
   ],
   "source": [
    "# Whether to train with GPU\n",
    "train_on_gpu = torch.cuda.is_available()\n",
    "\n",
    "if not train_on_gpu:\n",
    "    print('CUDA is not available.  Training on CPU ...')\n",
    "else:\n",
    "    print('CUDA is available!  Training on GPU ...')\n",
    "    \n",
    "device = torch.device(\"cuda:0\" if torch.cuda.is_available() else \"cpu\")"
   ]
  },
  {
   "cell_type": "markdown",
   "id": "877338a6",
   "metadata": {},
   "source": [
    "### Should the model parameters be updated?\n",
    "- Sometimes we use other people's models, so we use them all the time, we can decide whether to update them or not."
   ]
  },
  {
   "cell_type": "code",
   "execution_count": 12,
   "id": "8a8923da",
   "metadata": {},
   "outputs": [
    {
     "data": {
      "text/plain": [
       "ResNet(\n",
       "  (conv1): Conv2d(3, 64, kernel_size=(7, 7), stride=(2, 2), padding=(3, 3), bias=False)\n",
       "  (bn1): BatchNorm2d(64, eps=1e-05, momentum=0.1, affine=True, track_running_stats=True)\n",
       "  (relu): ReLU(inplace=True)\n",
       "  (maxpool): MaxPool2d(kernel_size=3, stride=2, padding=1, dilation=1, ceil_mode=False)\n",
       "  (layer1): Sequential(\n",
       "    (0): BasicBlock(\n",
       "      (conv1): Conv2d(64, 64, kernel_size=(3, 3), stride=(1, 1), padding=(1, 1), bias=False)\n",
       "      (bn1): BatchNorm2d(64, eps=1e-05, momentum=0.1, affine=True, track_running_stats=True)\n",
       "      (relu): ReLU(inplace=True)\n",
       "      (conv2): Conv2d(64, 64, kernel_size=(3, 3), stride=(1, 1), padding=(1, 1), bias=False)\n",
       "      (bn2): BatchNorm2d(64, eps=1e-05, momentum=0.1, affine=True, track_running_stats=True)\n",
       "    )\n",
       "    (1): BasicBlock(\n",
       "      (conv1): Conv2d(64, 64, kernel_size=(3, 3), stride=(1, 1), padding=(1, 1), bias=False)\n",
       "      (bn1): BatchNorm2d(64, eps=1e-05, momentum=0.1, affine=True, track_running_stats=True)\n",
       "      (relu): ReLU(inplace=True)\n",
       "      (conv2): Conv2d(64, 64, kernel_size=(3, 3), stride=(1, 1), padding=(1, 1), bias=False)\n",
       "      (bn2): BatchNorm2d(64, eps=1e-05, momentum=0.1, affine=True, track_running_stats=True)\n",
       "    )\n",
       "  )\n",
       "  (layer2): Sequential(\n",
       "    (0): BasicBlock(\n",
       "      (conv1): Conv2d(64, 128, kernel_size=(3, 3), stride=(2, 2), padding=(1, 1), bias=False)\n",
       "      (bn1): BatchNorm2d(128, eps=1e-05, momentum=0.1, affine=True, track_running_stats=True)\n",
       "      (relu): ReLU(inplace=True)\n",
       "      (conv2): Conv2d(128, 128, kernel_size=(3, 3), stride=(1, 1), padding=(1, 1), bias=False)\n",
       "      (bn2): BatchNorm2d(128, eps=1e-05, momentum=0.1, affine=True, track_running_stats=True)\n",
       "      (downsample): Sequential(\n",
       "        (0): Conv2d(64, 128, kernel_size=(1, 1), stride=(2, 2), bias=False)\n",
       "        (1): BatchNorm2d(128, eps=1e-05, momentum=0.1, affine=True, track_running_stats=True)\n",
       "      )\n",
       "    )\n",
       "    (1): BasicBlock(\n",
       "      (conv1): Conv2d(128, 128, kernel_size=(3, 3), stride=(1, 1), padding=(1, 1), bias=False)\n",
       "      (bn1): BatchNorm2d(128, eps=1e-05, momentum=0.1, affine=True, track_running_stats=True)\n",
       "      (relu): ReLU(inplace=True)\n",
       "      (conv2): Conv2d(128, 128, kernel_size=(3, 3), stride=(1, 1), padding=(1, 1), bias=False)\n",
       "      (bn2): BatchNorm2d(128, eps=1e-05, momentum=0.1, affine=True, track_running_stats=True)\n",
       "    )\n",
       "  )\n",
       "  (layer3): Sequential(\n",
       "    (0): BasicBlock(\n",
       "      (conv1): Conv2d(128, 256, kernel_size=(3, 3), stride=(2, 2), padding=(1, 1), bias=False)\n",
       "      (bn1): BatchNorm2d(256, eps=1e-05, momentum=0.1, affine=True, track_running_stats=True)\n",
       "      (relu): ReLU(inplace=True)\n",
       "      (conv2): Conv2d(256, 256, kernel_size=(3, 3), stride=(1, 1), padding=(1, 1), bias=False)\n",
       "      (bn2): BatchNorm2d(256, eps=1e-05, momentum=0.1, affine=True, track_running_stats=True)\n",
       "      (downsample): Sequential(\n",
       "        (0): Conv2d(128, 256, kernel_size=(1, 1), stride=(2, 2), bias=False)\n",
       "        (1): BatchNorm2d(256, eps=1e-05, momentum=0.1, affine=True, track_running_stats=True)\n",
       "      )\n",
       "    )\n",
       "    (1): BasicBlock(\n",
       "      (conv1): Conv2d(256, 256, kernel_size=(3, 3), stride=(1, 1), padding=(1, 1), bias=False)\n",
       "      (bn1): BatchNorm2d(256, eps=1e-05, momentum=0.1, affine=True, track_running_stats=True)\n",
       "      (relu): ReLU(inplace=True)\n",
       "      (conv2): Conv2d(256, 256, kernel_size=(3, 3), stride=(1, 1), padding=(1, 1), bias=False)\n",
       "      (bn2): BatchNorm2d(256, eps=1e-05, momentum=0.1, affine=True, track_running_stats=True)\n",
       "    )\n",
       "  )\n",
       "  (layer4): Sequential(\n",
       "    (0): BasicBlock(\n",
       "      (conv1): Conv2d(256, 512, kernel_size=(3, 3), stride=(2, 2), padding=(1, 1), bias=False)\n",
       "      (bn1): BatchNorm2d(512, eps=1e-05, momentum=0.1, affine=True, track_running_stats=True)\n",
       "      (relu): ReLU(inplace=True)\n",
       "      (conv2): Conv2d(512, 512, kernel_size=(3, 3), stride=(1, 1), padding=(1, 1), bias=False)\n",
       "      (bn2): BatchNorm2d(512, eps=1e-05, momentum=0.1, affine=True, track_running_stats=True)\n",
       "      (downsample): Sequential(\n",
       "        (0): Conv2d(256, 512, kernel_size=(1, 1), stride=(2, 2), bias=False)\n",
       "        (1): BatchNorm2d(512, eps=1e-05, momentum=0.1, affine=True, track_running_stats=True)\n",
       "      )\n",
       "    )\n",
       "    (1): BasicBlock(\n",
       "      (conv1): Conv2d(512, 512, kernel_size=(3, 3), stride=(1, 1), padding=(1, 1), bias=False)\n",
       "      (bn1): BatchNorm2d(512, eps=1e-05, momentum=0.1, affine=True, track_running_stats=True)\n",
       "      (relu): ReLU(inplace=True)\n",
       "      (conv2): Conv2d(512, 512, kernel_size=(3, 3), stride=(1, 1), padding=(1, 1), bias=False)\n",
       "      (bn2): BatchNorm2d(512, eps=1e-05, momentum=0.1, affine=True, track_running_stats=True)\n",
       "    )\n",
       "  )\n",
       "  (avgpool): AdaptiveAvgPool2d(output_size=(1, 1))\n",
       "  (fc): Linear(in_features=512, out_features=1000, bias=True)\n",
       ")"
      ]
     },
     "execution_count": 12,
     "metadata": {},
     "output_type": "execute_result"
    }
   ],
   "source": [
    "model_ft = models.resnet18()  #18 layers can be faster, better conditions can also choose 152\n",
    "model_ft"
   ]
  },
  {
   "cell_type": "code",
   "execution_count": 13,
   "id": "e6c253de",
   "metadata": {},
   "outputs": [],
   "source": [
    "def set_parameter_requires_grad(model, feature_extracting):\n",
    "    if feature_extracting:\n",
    "        for param in model.parameters():\n",
    "            param.requires_grad = False"
   ]
  },
  {
   "cell_type": "markdown",
   "id": "4b57c44b",
   "metadata": {},
   "source": [
    "## Change the model output layer to your own"
   ]
  },
  {
   "cell_type": "code",
   "execution_count": 15,
   "id": "dbf4479b",
   "metadata": {},
   "outputs": [],
   "source": [
    "def initialize_model(model_name, num_classes, feature_extract, use_pretrained=True):\n",
    "    \n",
    "    model_ft = models.resnet18(pretrained=use_pretrained) # Specify the model name\n",
    "    set_parameter_requires_grad(model_ft, feature_extract) # Model parameters are not updated\n",
    "    \n",
    "    # Redefines the full connectivity layer\n",
    "    # param.requires_grad is True\n",
    "    num_ftrs = model_ft.fc.in_features\n",
    "    model_ft.fc = nn.Linear(num_ftrs, 102) # The number of categories yourself according to your task\n",
    "                            \n",
    "    input_size = 64 # Input size according to your own configuration\n",
    "\n",
    "    return model_ft, input_size"
   ]
  },
  {
   "cell_type": "markdown",
   "id": "bf270508",
   "metadata": {},
   "source": [
    "## Set which layers to train"
   ]
  },
  {
   "cell_type": "code",
   "execution_count": 16,
   "id": "6449cccb",
   "metadata": {},
   "outputs": [
    {
     "name": "stderr",
     "output_type": "stream",
     "text": [
      "Downloading: \"https://download.pytorch.org/models/resnet18-f37072fd.pth\" to /Users/citron/.cache/torch/hub/checkpoints/resnet18-f37072fd.pth\n",
      "100%|███████████████████████████████████████| 44.7M/44.7M [00:50<00:00, 919kB/s]\n"
     ]
    },
    {
     "name": "stdout",
     "output_type": "stream",
     "text": [
      "Params to learn:\n",
      "\t fc.weight\n",
      "\t fc.bias\n"
     ]
    }
   ],
   "source": [
    "model_ft, input_size = initialize_model(model_name, 102, feature_extract, use_pretrained=True)\n",
    "\n",
    "# GPU or CPU Computing\n",
    "model_ft = model_ft.to(device)\n",
    "\n",
    "# Model saving, name your own\n",
    "filename='best.pt'\n",
    "\n",
    "# Whether to train all layers\n",
    "params_to_update = model_ft.parameters()\n",
    "print(\"Params to learn:\")\n",
    "if feature_extract:\n",
    "    params_to_update = []\n",
    "    for name,param in model_ft.named_parameters():\n",
    "        if param.requires_grad == True:\n",
    "            params_to_update.append(param)\n",
    "            print(\"\\t\",name)\n",
    "else:\n",
    "    for name,param in model_ft.named_parameters():\n",
    "        if param.requires_grad == True:\n",
    "            print(\"\\t\",name)"
   ]
  },
  {
   "cell_type": "code",
   "execution_count": 17,
   "id": "81061160",
   "metadata": {},
   "outputs": [
    {
     "data": {
      "text/plain": [
       "ResNet(\n",
       "  (conv1): Conv2d(3, 64, kernel_size=(7, 7), stride=(2, 2), padding=(3, 3), bias=False)\n",
       "  (bn1): BatchNorm2d(64, eps=1e-05, momentum=0.1, affine=True, track_running_stats=True)\n",
       "  (relu): ReLU(inplace=True)\n",
       "  (maxpool): MaxPool2d(kernel_size=3, stride=2, padding=1, dilation=1, ceil_mode=False)\n",
       "  (layer1): Sequential(\n",
       "    (0): BasicBlock(\n",
       "      (conv1): Conv2d(64, 64, kernel_size=(3, 3), stride=(1, 1), padding=(1, 1), bias=False)\n",
       "      (bn1): BatchNorm2d(64, eps=1e-05, momentum=0.1, affine=True, track_running_stats=True)\n",
       "      (relu): ReLU(inplace=True)\n",
       "      (conv2): Conv2d(64, 64, kernel_size=(3, 3), stride=(1, 1), padding=(1, 1), bias=False)\n",
       "      (bn2): BatchNorm2d(64, eps=1e-05, momentum=0.1, affine=True, track_running_stats=True)\n",
       "    )\n",
       "    (1): BasicBlock(\n",
       "      (conv1): Conv2d(64, 64, kernel_size=(3, 3), stride=(1, 1), padding=(1, 1), bias=False)\n",
       "      (bn1): BatchNorm2d(64, eps=1e-05, momentum=0.1, affine=True, track_running_stats=True)\n",
       "      (relu): ReLU(inplace=True)\n",
       "      (conv2): Conv2d(64, 64, kernel_size=(3, 3), stride=(1, 1), padding=(1, 1), bias=False)\n",
       "      (bn2): BatchNorm2d(64, eps=1e-05, momentum=0.1, affine=True, track_running_stats=True)\n",
       "    )\n",
       "  )\n",
       "  (layer2): Sequential(\n",
       "    (0): BasicBlock(\n",
       "      (conv1): Conv2d(64, 128, kernel_size=(3, 3), stride=(2, 2), padding=(1, 1), bias=False)\n",
       "      (bn1): BatchNorm2d(128, eps=1e-05, momentum=0.1, affine=True, track_running_stats=True)\n",
       "      (relu): ReLU(inplace=True)\n",
       "      (conv2): Conv2d(128, 128, kernel_size=(3, 3), stride=(1, 1), padding=(1, 1), bias=False)\n",
       "      (bn2): BatchNorm2d(128, eps=1e-05, momentum=0.1, affine=True, track_running_stats=True)\n",
       "      (downsample): Sequential(\n",
       "        (0): Conv2d(64, 128, kernel_size=(1, 1), stride=(2, 2), bias=False)\n",
       "        (1): BatchNorm2d(128, eps=1e-05, momentum=0.1, affine=True, track_running_stats=True)\n",
       "      )\n",
       "    )\n",
       "    (1): BasicBlock(\n",
       "      (conv1): Conv2d(128, 128, kernel_size=(3, 3), stride=(1, 1), padding=(1, 1), bias=False)\n",
       "      (bn1): BatchNorm2d(128, eps=1e-05, momentum=0.1, affine=True, track_running_stats=True)\n",
       "      (relu): ReLU(inplace=True)\n",
       "      (conv2): Conv2d(128, 128, kernel_size=(3, 3), stride=(1, 1), padding=(1, 1), bias=False)\n",
       "      (bn2): BatchNorm2d(128, eps=1e-05, momentum=0.1, affine=True, track_running_stats=True)\n",
       "    )\n",
       "  )\n",
       "  (layer3): Sequential(\n",
       "    (0): BasicBlock(\n",
       "      (conv1): Conv2d(128, 256, kernel_size=(3, 3), stride=(2, 2), padding=(1, 1), bias=False)\n",
       "      (bn1): BatchNorm2d(256, eps=1e-05, momentum=0.1, affine=True, track_running_stats=True)\n",
       "      (relu): ReLU(inplace=True)\n",
       "      (conv2): Conv2d(256, 256, kernel_size=(3, 3), stride=(1, 1), padding=(1, 1), bias=False)\n",
       "      (bn2): BatchNorm2d(256, eps=1e-05, momentum=0.1, affine=True, track_running_stats=True)\n",
       "      (downsample): Sequential(\n",
       "        (0): Conv2d(128, 256, kernel_size=(1, 1), stride=(2, 2), bias=False)\n",
       "        (1): BatchNorm2d(256, eps=1e-05, momentum=0.1, affine=True, track_running_stats=True)\n",
       "      )\n",
       "    )\n",
       "    (1): BasicBlock(\n",
       "      (conv1): Conv2d(256, 256, kernel_size=(3, 3), stride=(1, 1), padding=(1, 1), bias=False)\n",
       "      (bn1): BatchNorm2d(256, eps=1e-05, momentum=0.1, affine=True, track_running_stats=True)\n",
       "      (relu): ReLU(inplace=True)\n",
       "      (conv2): Conv2d(256, 256, kernel_size=(3, 3), stride=(1, 1), padding=(1, 1), bias=False)\n",
       "      (bn2): BatchNorm2d(256, eps=1e-05, momentum=0.1, affine=True, track_running_stats=True)\n",
       "    )\n",
       "  )\n",
       "  (layer4): Sequential(\n",
       "    (0): BasicBlock(\n",
       "      (conv1): Conv2d(256, 512, kernel_size=(3, 3), stride=(2, 2), padding=(1, 1), bias=False)\n",
       "      (bn1): BatchNorm2d(512, eps=1e-05, momentum=0.1, affine=True, track_running_stats=True)\n",
       "      (relu): ReLU(inplace=True)\n",
       "      (conv2): Conv2d(512, 512, kernel_size=(3, 3), stride=(1, 1), padding=(1, 1), bias=False)\n",
       "      (bn2): BatchNorm2d(512, eps=1e-05, momentum=0.1, affine=True, track_running_stats=True)\n",
       "      (downsample): Sequential(\n",
       "        (0): Conv2d(256, 512, kernel_size=(1, 1), stride=(2, 2), bias=False)\n",
       "        (1): BatchNorm2d(512, eps=1e-05, momentum=0.1, affine=True, track_running_stats=True)\n",
       "      )\n",
       "    )\n",
       "    (1): BasicBlock(\n",
       "      (conv1): Conv2d(512, 512, kernel_size=(3, 3), stride=(1, 1), padding=(1, 1), bias=False)\n",
       "      (bn1): BatchNorm2d(512, eps=1e-05, momentum=0.1, affine=True, track_running_stats=True)\n",
       "      (relu): ReLU(inplace=True)\n",
       "      (conv2): Conv2d(512, 512, kernel_size=(3, 3), stride=(1, 1), padding=(1, 1), bias=False)\n",
       "      (bn2): BatchNorm2d(512, eps=1e-05, momentum=0.1, affine=True, track_running_stats=True)\n",
       "    )\n",
       "  )\n",
       "  (avgpool): AdaptiveAvgPool2d(output_size=(1, 1))\n",
       "  (fc): Linear(in_features=512, out_features=102, bias=True)\n",
       ")"
      ]
     },
     "execution_count": 17,
     "metadata": {},
     "output_type": "execute_result"
    }
   ],
   "source": [
    "model_ft"
   ]
  },
  {
   "cell_type": "markdown",
   "id": "d9c795e4",
   "metadata": {},
   "source": [
    "## Optimizer settings"
   ]
  },
  {
   "cell_type": "code",
   "execution_count": 18,
   "id": "c1df94ff",
   "metadata": {},
   "outputs": [],
   "source": [
    "# Optimizer Settings\n",
    "optimizer_ft = optim.Adam(params_to_update, lr=1e-2) # You decide what parameters you want to train.\n",
    "scheduler = optim.lr_scheduler.StepLR(optimizer_ft, step_size=10, gamma=0.1) # Learning rate decays to 1/10 of original every 7 epochs\n",
    "criterion = nn.CrossEntropyLoss()"
   ]
  },
  {
   "cell_type": "markdown",
   "id": "30cc58f4",
   "metadata": {},
   "source": [
    "## Training module"
   ]
  },
  {
   "cell_type": "code",
   "execution_count": 19,
   "id": "d6a2a137",
   "metadata": {},
   "outputs": [],
   "source": [
    "def train_model(model, dataloaders, criterion, optimizer, num_epochs=25,filename='best.pt'):\n",
    "    # count time\n",
    "    since = time.time()\n",
    "    # Record the best one\n",
    "    best_acc = 0\n",
    "    # The model also has to go to your CPU or GPU\n",
    "    model.to(device)\n",
    "    # Print a bunch of losses and metrics during training\n",
    "    val_acc_history = []\n",
    "    train_acc_history = []\n",
    "    train_losses = []\n",
    "    valid_losses = []\n",
    "    # learning rate\n",
    "    LRs = [optimizer.param_groups[0]['lr']]\n",
    "    # The best model of that time, which will be changed later, initialized first\n",
    "    best_model_wts = copy.deepcopy(model.state_dict())\n",
    "    # One epoch at a time\n",
    "    for epoch in range(num_epochs):\n",
    "        print('Epoch {}/{}'.format(epoch, num_epochs - 1))\n",
    "        print('-' * 10)\n",
    "\n",
    "        # Training and validation\n",
    "        for phase in ['train', 'valid']:\n",
    "            if phase == 'train':\n",
    "                model.train()  # Train\n",
    "            else:\n",
    "                model.eval()   # Valid\n",
    "\n",
    "            running_loss = 0.0\n",
    "            running_corrects = 0\n",
    "\n",
    "            # Fetch all the data\n",
    "            for inputs, labels in dataloaders[phase]:\n",
    "                inputs = inputs.to(device) # Put it on your CPU or GPU\n",
    "                labels = labels.to(device)\n",
    "\n",
    "                # zero\n",
    "                optimizer.zero_grad()\n",
    "                # Only the gradient is calculated and updated during training\n",
    "                outputs = model(inputs)\n",
    "                loss = criterion(outputs, labels)\n",
    "                _, preds = torch.max(outputs, 1)\n",
    "                # Updating weights during the training phase\n",
    "                if phase == 'train':\n",
    "                    loss.backward()\n",
    "                    optimizer.step()\n",
    "\n",
    "                # Calculation of losses\n",
    "                running_loss += loss.item() * inputs.size(0) # 0 means batch that dimension\n",
    "                running_corrects += torch.sum(preds == labels.data)# Consistency between the largest predicted result and the true value\n",
    "                \n",
    "            \n",
    "            \n",
    "            epoch_loss = running_loss / len(dataloaders[phase].dataset)# arithmetic mean\n",
    "            epoch_acc = running_corrects.double() / len(dataloaders[phase].dataset)\n",
    "            \n",
    "            time_elapsed = time.time() - since # How much time have I wasted in one epoch?\n",
    "            print('Time elapsed {:.0f}m {:.0f}s'.format(time_elapsed // 60, time_elapsed % 60))\n",
    "            print('{} Loss: {:.4f} Acc: {:.4f}'.format(phase, epoch_loss, epoch_acc))\n",
    "            \n",
    "\n",
    "            # Get the best model for that one.\n",
    "            if phase == 'valid' and epoch_acc > best_acc:\n",
    "                best_acc = epoch_acc\n",
    "                best_model_wts = copy.deepcopy(model.state_dict())\n",
    "                state = {\n",
    "                  'state_dict': model.state_dict(),# The key in the dictionary is the name of each layer and the value is the trained weights\n",
    "                  'best_acc': best_acc,\n",
    "                  'optimizer' : optimizer.state_dict(),\n",
    "                }\n",
    "                torch.save(state, filename)\n",
    "            if phase == 'valid':\n",
    "                val_acc_history.append(epoch_acc)\n",
    "                valid_losses.append(epoch_loss)\n",
    "                # scheduler.step(epoch_loss) # Learning rate decay\n",
    "            if phase == 'train':\n",
    "                train_acc_history.append(epoch_acc)\n",
    "                train_losses.append(epoch_loss)\n",
    "        \n",
    "        print('Optimizer learning rate : {:.7f}'.format(optimizer.param_groups[0]['lr']))\n",
    "        LRs.append(optimizer.param_groups[0]['lr'])\n",
    "        print()\n",
    "        scheduler.step()# Learning rate decay\n",
    "\n",
    "    time_elapsed = time.time() - since\n",
    "    print('Training complete in {:.0f}m {:.0f}s'.format(time_elapsed // 60, time_elapsed % 60))\n",
    "    print('Best val Acc: {:4f}'.format(best_acc))\n",
    "\n",
    "    # After training, use the best one as the final result of the model, and wait for a test later.\n",
    "    model.load_state_dict(best_model_wts)\n",
    "    return model, val_acc_history, train_acc_history, valid_losses, train_losses, LRs "
   ]
  },
  {
   "cell_type": "markdown",
   "id": "a24aecc7",
   "metadata": {},
   "source": [
    "## Start training!\n",
    "- We have now trained only the output layer"
   ]
  },
  {
   "cell_type": "code",
   "execution_count": 20,
   "id": "cbca9250",
   "metadata": {},
   "outputs": [
    {
     "name": "stdout",
     "output_type": "stream",
     "text": [
      "Epoch 0/19\n",
      "----------\n",
      "Time elapsed 1m 8s\n",
      "train Loss: 4.0515 Acc: 0.2379\n",
      "Time elapsed 1m 15s\n",
      "valid Loss: 3.6263 Acc: 0.2567\n",
      "Optimizer learning rate : 0.0100000\n",
      "\n",
      "Epoch 1/19\n",
      "----------\n",
      "Time elapsed 2m 24s\n",
      "train Loss: 2.8754 Acc: 0.3964\n",
      "Time elapsed 2m 31s\n",
      "valid Loss: 3.5431 Acc: 0.2983\n",
      "Optimizer learning rate : 0.0100000\n",
      "\n",
      "Epoch 2/19\n",
      "----------\n",
      "Time elapsed 3m 38s\n",
      "train Loss: 2.7854 Acc: 0.4238\n",
      "Time elapsed 3m 46s\n",
      "valid Loss: 3.6176 Acc: 0.3093\n",
      "Optimizer learning rate : 0.0100000\n",
      "\n",
      "Epoch 3/19\n",
      "----------\n",
      "Time elapsed 4m 53s\n",
      "train Loss: 2.8043 Acc: 0.4280\n",
      "Time elapsed 5m 0s\n",
      "valid Loss: 3.8073 Acc: 0.3068\n",
      "Optimizer learning rate : 0.0100000\n",
      "\n",
      "Epoch 4/19\n",
      "----------\n",
      "Time elapsed 6m 8s\n",
      "train Loss: 2.6920 Acc: 0.4464\n",
      "Time elapsed 6m 15s\n",
      "valid Loss: 3.9726 Acc: 0.3081\n",
      "Optimizer learning rate : 0.0100000\n",
      "\n",
      "Epoch 5/19\n",
      "----------\n",
      "Time elapsed 7m 22s\n",
      "train Loss: 2.6653 Acc: 0.4621\n",
      "Time elapsed 7m 29s\n",
      "valid Loss: 3.9234 Acc: 0.3117\n",
      "Optimizer learning rate : 0.0100000\n",
      "\n",
      "Epoch 6/19\n",
      "----------\n",
      "Time elapsed 8m 36s\n",
      "train Loss: 2.7126 Acc: 0.4673\n",
      "Time elapsed 8m 44s\n",
      "valid Loss: 4.1118 Acc: 0.3068\n",
      "Optimizer learning rate : 0.0100000\n",
      "\n",
      "Epoch 7/19\n",
      "----------\n",
      "Time elapsed 9m 51s\n",
      "train Loss: 2.7061 Acc: 0.4650\n",
      "Time elapsed 9m 58s\n",
      "valid Loss: 4.1246 Acc: 0.3252\n",
      "Optimizer learning rate : 0.0100000\n",
      "\n",
      "Epoch 8/19\n",
      "----------\n",
      "Time elapsed 11m 4s\n",
      "train Loss: 2.8027 Acc: 0.4612\n",
      "Time elapsed 11m 11s\n",
      "valid Loss: 4.1927 Acc: 0.3215\n",
      "Optimizer learning rate : 0.0100000\n",
      "\n",
      "Epoch 9/19\n",
      "----------\n",
      "Time elapsed 12m 16s\n",
      "train Loss: 2.7718 Acc: 0.4712\n",
      "Time elapsed 12m 24s\n",
      "valid Loss: 4.3956 Acc: 0.3191\n",
      "Optimizer learning rate : 0.0100000\n",
      "\n",
      "Epoch 10/19\n",
      "----------\n",
      "Time elapsed 13m 29s\n",
      "train Loss: 2.2683 Acc: 0.5290\n",
      "Time elapsed 13m 36s\n",
      "valid Loss: 3.6998 Acc: 0.3680\n",
      "Optimizer learning rate : 0.0010000\n",
      "\n",
      "Epoch 11/19\n",
      "----------\n",
      "Time elapsed 14m 43s\n",
      "train Loss: 2.0754 Acc: 0.5456\n",
      "Time elapsed 14m 50s\n",
      "valid Loss: 3.6296 Acc: 0.3582\n",
      "Optimizer learning rate : 0.0010000\n",
      "\n",
      "Epoch 12/19\n",
      "----------\n",
      "Time elapsed 15m 56s\n",
      "train Loss: 2.0358 Acc: 0.5496\n",
      "Time elapsed 16m 3s\n",
      "valid Loss: 3.6294 Acc: 0.3594\n",
      "Optimizer learning rate : 0.0010000\n",
      "\n",
      "Epoch 13/19\n",
      "----------\n",
      "Time elapsed 17m 9s\n",
      "train Loss: 1.9016 Acc: 0.5644\n",
      "Time elapsed 17m 16s\n",
      "valid Loss: 3.5280 Acc: 0.3753\n",
      "Optimizer learning rate : 0.0010000\n",
      "\n",
      "Epoch 14/19\n",
      "----------\n",
      "Time elapsed 18m 23s\n",
      "train Loss: 1.9446 Acc: 0.5549\n",
      "Time elapsed 18m 30s\n",
      "valid Loss: 3.4354 Acc: 0.3655\n",
      "Optimizer learning rate : 0.0010000\n",
      "\n",
      "Epoch 15/19\n",
      "----------\n",
      "Time elapsed 19m 36s\n",
      "train Loss: 1.9145 Acc: 0.5722\n",
      "Time elapsed 19m 44s\n",
      "valid Loss: 3.4368 Acc: 0.3680\n",
      "Optimizer learning rate : 0.0010000\n",
      "\n",
      "Epoch 16/19\n",
      "----------\n",
      "Time elapsed 20m 50s\n",
      "train Loss: 1.9337 Acc: 0.5641\n",
      "Time elapsed 20m 57s\n",
      "valid Loss: 3.4444 Acc: 0.3643\n",
      "Optimizer learning rate : 0.0010000\n",
      "\n",
      "Epoch 17/19\n",
      "----------\n",
      "Time elapsed 22m 3s\n",
      "train Loss: 1.8384 Acc: 0.5740\n",
      "Time elapsed 22m 10s\n",
      "valid Loss: 3.3773 Acc: 0.3667\n",
      "Optimizer learning rate : 0.0010000\n",
      "\n",
      "Epoch 18/19\n",
      "----------\n",
      "Time elapsed 23m 16s\n",
      "train Loss: 1.8288 Acc: 0.5681\n",
      "Time elapsed 23m 23s\n",
      "valid Loss: 3.3492 Acc: 0.3778\n",
      "Optimizer learning rate : 0.0010000\n",
      "\n",
      "Epoch 19/19\n",
      "----------\n",
      "Time elapsed 24m 30s\n",
      "train Loss: 1.8146 Acc: 0.5742\n",
      "Time elapsed 24m 37s\n",
      "valid Loss: 3.4104 Acc: 0.3619\n",
      "Optimizer learning rate : 0.0010000\n",
      "\n",
      "Training complete in 24m 37s\n",
      "Best val Acc: 0.377751\n"
     ]
    }
   ],
   "source": [
    "model_ft, val_acc_history, train_acc_history, valid_losses, train_losses, LRs  = train_model(model_ft, dataloaders, criterion, optimizer_ft, num_epochs=20)"
   ]
  },
  {
   "cell_type": "markdown",
   "id": "d1532355",
   "metadata": {},
   "source": [
    "## And then continue to train all the layers"
   ]
  },
  {
   "cell_type": "code",
   "execution_count": 21,
   "id": "88c687bc",
   "metadata": {},
   "outputs": [],
   "source": [
    "for param in model_ft.parameters():\n",
    "    param.requires_grad = True\n",
    "\n",
    "# Continue training all the parameters again, with the learning rate turned down a bit\n",
    "optimizer = optim.Adam(model_ft.parameters(), lr=1e-3)\n",
    "scheduler = optim.lr_scheduler.StepLR(optimizer_ft, step_size=7, gamma=0.1)\n",
    "\n",
    "# loss function\n",
    "criterion = nn.CrossEntropyLoss()"
   ]
  },
  {
   "cell_type": "code",
   "execution_count": 22,
   "id": "b6726bdd",
   "metadata": {},
   "outputs": [
    {
     "data": {
      "text/plain": [
       "<All keys matched successfully>"
      ]
     },
     "execution_count": 22,
     "metadata": {},
     "output_type": "execute_result"
    }
   ],
   "source": [
    "# Load the previously trained weight parameters\n",
    "\n",
    "checkpoint = torch.load(filename)\n",
    "best_acc = checkpoint['best_acc']\n",
    "model_ft.load_state_dict(checkpoint['state_dict'])"
   ]
  },
  {
   "cell_type": "code",
   "execution_count": 23,
   "id": "373db2a4",
   "metadata": {},
   "outputs": [
    {
     "name": "stdout",
     "output_type": "stream",
     "text": [
      "Epoch 0/9\n",
      "----------\n",
      "Time elapsed 1m 49s\n",
      "train Loss: 2.7842 Acc: 0.4144\n",
      "Time elapsed 1m 57s\n",
      "valid Loss: 2.9832 Acc: 0.3851\n",
      "Optimizer learning rate : 0.0010000\n",
      "\n",
      "Epoch 1/9\n",
      "----------\n",
      "Time elapsed 3m 52s\n",
      "train Loss: 1.5369 Acc: 0.5957\n",
      "Time elapsed 3m 60s\n",
      "valid Loss: 1.8990 Acc: 0.5000\n",
      "Optimizer learning rate : 0.0010000\n",
      "\n",
      "Epoch 2/9\n",
      "----------\n",
      "Time elapsed 5m 49s\n",
      "train Loss: 1.1239 Acc: 0.6864\n",
      "Time elapsed 5m 56s\n",
      "valid Loss: 1.8231 Acc: 0.5403\n",
      "Optimizer learning rate : 0.0010000\n",
      "\n",
      "Epoch 3/9\n",
      "----------\n",
      "Time elapsed 7m 46s\n",
      "train Loss: 1.0093 Acc: 0.7199\n",
      "Time elapsed 7m 54s\n",
      "valid Loss: 1.9133 Acc: 0.5208\n",
      "Optimizer learning rate : 0.0010000\n",
      "\n",
      "Epoch 4/9\n",
      "----------\n",
      "Time elapsed 9m 44s\n",
      "train Loss: 0.8692 Acc: 0.7524\n",
      "Time elapsed 9m 52s\n",
      "valid Loss: 1.8311 Acc: 0.5844\n",
      "Optimizer learning rate : 0.0010000\n",
      "\n",
      "Epoch 5/9\n",
      "----------\n",
      "Time elapsed 11m 42s\n",
      "train Loss: 0.7637 Acc: 0.7811\n",
      "Time elapsed 11m 50s\n",
      "valid Loss: 2.0379 Acc: 0.5428\n",
      "Optimizer learning rate : 0.0010000\n",
      "\n",
      "Epoch 6/9\n",
      "----------\n",
      "Time elapsed 13m 39s\n",
      "train Loss: 0.7236 Acc: 0.7944\n",
      "Time elapsed 13m 47s\n",
      "valid Loss: 1.8492 Acc: 0.5844\n",
      "Optimizer learning rate : 0.0010000\n",
      "\n",
      "Epoch 7/9\n",
      "----------\n",
      "Time elapsed 15m 36s\n",
      "train Loss: 0.7813 Acc: 0.7853\n",
      "Time elapsed 15m 43s\n",
      "valid Loss: 1.7274 Acc: 0.5758\n",
      "Optimizer learning rate : 0.0010000\n",
      "\n",
      "Epoch 8/9\n",
      "----------\n",
      "Time elapsed 17m 32s\n",
      "train Loss: 0.6457 Acc: 0.8124\n",
      "Time elapsed 17m 39s\n",
      "valid Loss: 1.6981 Acc: 0.5880\n",
      "Optimizer learning rate : 0.0010000\n",
      "\n",
      "Epoch 9/9\n",
      "----------\n",
      "Time elapsed 19m 30s\n",
      "train Loss: 0.6054 Acc: 0.8194\n",
      "Time elapsed 19m 38s\n",
      "valid Loss: 1.7455 Acc: 0.6002\n",
      "Optimizer learning rate : 0.0010000\n",
      "\n",
      "Training complete in 19m 39s\n",
      "Best val Acc: 0.600244\n"
     ]
    }
   ],
   "source": [
    "model_ft, val_acc_history, train_acc_history, valid_losses, train_losses, LRs  = train_model(model_ft, dataloaders, criterion, optimizer, num_epochs=10,)"
   ]
  },
  {
   "cell_type": "markdown",
   "id": "feaa1c06",
   "metadata": {},
   "source": [
    "## Load the trained model"
   ]
  },
  {
   "cell_type": "code",
   "execution_count": 24,
   "id": "1f165b85",
   "metadata": {},
   "outputs": [
    {
     "data": {
      "text/plain": [
       "<All keys matched successfully>"
      ]
     },
     "execution_count": 24,
     "metadata": {},
     "output_type": "execute_result"
    }
   ],
   "source": [
    "model_ft, input_size = initialize_model(model_name, 102, feature_extract, use_pretrained=True)\n",
    "\n",
    "# GPU Mode\n",
    "model_ft = model_ft.to(device)\n",
    "\n",
    "# Name of the file to save\n",
    "filename='best.pt'\n",
    "\n",
    "# Loading Models\n",
    "checkpoint = torch.load(filename)\n",
    "best_acc = checkpoint['best_acc']\n",
    "model_ft.load_state_dict(checkpoint['state_dict'])"
   ]
  },
  {
   "cell_type": "markdown",
   "id": "2265baf7",
   "metadata": {},
   "source": [
    "## Test data preprocessing\n",
    "\n",
    "- The test data processing method needs to be the same as the training method. \n",
    "- The purpose of the crop operation is to ensure that the size of the input is the same.\n",
    "- Normalization is also necessary, using the same mean and std as the training data, but note that the training data is normalized on 0-1, so the test data needs to be normalized first.\n",
    "- Finally, the color channel is the first dimension in PyTorch, which is different from many toolkits and needs to be converted."
   ]
  },
  {
   "cell_type": "code",
   "execution_count": 34,
   "id": "08647a71",
   "metadata": {},
   "outputs": [],
   "source": [
    "# Getting test data for a batch\n",
    "dataiter = iter(dataloaders['valid'])\n",
    "images, labels = next(dataiter)\n",
    "\n",
    "model_ft.eval()\n",
    "\n",
    "if train_on_gpu:\n",
    "    output = model_ft(images.cuda())\n",
    "else:\n",
    "    output = model_ft(images)"
   ]
  },
  {
   "cell_type": "markdown",
   "id": "e2fa7b90",
   "metadata": {},
   "source": [
    " - output represents the likelihood that each piece of data in a batch belongs to each category."
   ]
  },
  {
   "cell_type": "code",
   "execution_count": 35,
   "id": "20a9fdbe",
   "metadata": {},
   "outputs": [
    {
     "data": {
      "text/plain": [
       "torch.Size([128, 102])"
      ]
     },
     "execution_count": 35,
     "metadata": {},
     "output_type": "execute_result"
    }
   ],
   "source": [
    "output.shape"
   ]
  },
  {
   "cell_type": "markdown",
   "id": "9a39f23e",
   "metadata": {},
   "source": [
    "## Get the one with the highest probability"
   ]
  },
  {
   "cell_type": "code",
   "execution_count": 36,
   "id": "73267af2",
   "metadata": {},
   "outputs": [
    {
     "data": {
      "text/plain": [
       "array([ 34,  89,  49,  71,  65,  49,  82,  11,  55,  59,  56,  90,  56,\n",
       "        96,  57,   3,  10,  74,  89,  47,  76,  77,  33,  49,  89,  59,\n",
       "        96,  73,  70,  86,   8,  43,  43,  43,  52,  76,  78,  10,  38,\n",
       "        82,  19,  11,  96,  80,  35,  41,   6,  76,  55,  83,   3,  48,\n",
       "        55,  11,  75,  24,  56,  62,  16,  64,  16,  59,  76,  33, 101,\n",
       "        49,  61,  38,  82,  76,  55,  79,  44,  59,  39,  17,  68,  66,\n",
       "        93,  49,  41,  41,  78,  49,  61,  86,  73,  98,  51,  49,  49,\n",
       "        89,  59,   7,  74,   5,  57,  77,   4,  96,  53,  73,  66,  84,\n",
       "        78,  28,  41,  77,  84,  39,   0,  92,  81,   3,   3,  78,  10,\n",
       "        28,  60,  15,  70,  99,  78,  49,  43,  38,  49,  96])"
      ]
     },
     "execution_count": 36,
     "metadata": {},
     "output_type": "execute_result"
    }
   ],
   "source": [
    "_, preds_tensor = torch.max(output, 1)\n",
    "\n",
    "preds = np.squeeze(preds_tensor.numpy()) if not train_on_gpu else np.squeeze(preds_tensor.cpu().numpy())\n",
    "preds"
   ]
  },
  {
   "cell_type": "markdown",
   "id": "df9ee7c1",
   "metadata": {},
   "source": [
    "## Demonstrate the results of the prediction"
   ]
  },
  {
   "cell_type": "code",
   "execution_count": 37,
   "id": "1eccef65",
   "metadata": {},
   "outputs": [],
   "source": [
    "def im_convert(tensor):\n",
    "    \"\"\" Show data \"\"\"\n",
    "    \n",
    "    image = tensor.to(\"cpu\").clone().detach()\n",
    "    image = image.numpy().squeeze()\n",
    "    image = image.transpose(1,2,0)\n",
    "    image = image * np.array((0.229, 0.224, 0.225)) + np.array((0.485, 0.456, 0.406))\n",
    "    image = image.clip(0, 1)\n",
    "\n",
    "    return image"
   ]
  },
  {
   "cell_type": "code",
   "execution_count": 38,
   "id": "fd98676d",
   "metadata": {},
   "outputs": [
    {
     "data": {
      "image/png": "[encoded data removed]",
      "text/plain": [
       "<Figure size 2000x2000 with 8 Axes>"
      ]
     },
     "metadata": {},
     "output_type": "display_data"
    }
   ],
   "source": [
    "fig=plt.figure(figsize=(20, 20))\n",
    "columns = 4\n",
    "rows = 2\n",
    "\n",
    "for idx in range (columns*rows):\n",
    "    ax = fig.add_subplot(rows, columns, idx+1, xticks=[], yticks=[])\n",
    "    plt.imshow(im_convert(images[idx]))\n",
    "    ax.set_title(\"{} ({})\".format(cat_to_name[str(preds[idx])], cat_to_name[str(labels[idx].item())]),\n",
    "                 color=(\"green\" if cat_to_name[str(preds[idx])]==cat_to_name[str(labels[idx].item())] else \"red\"))\n",
    "plt.show()"
   ]
  }
 ],
 "metadata": {
  "kernelspec": {
   "display_name": "Python [conda env:root] *",
   "language": "python",
   "name": "conda-root-py"
  },
  "language_info": {
   "codemirror_mode": {
    "name": "ipython",
    "version": 3
   },
   "file_extension": ".py",
   "mimetype": "text/x-python",
   "name": "python",
   "nbconvert_exporter": "python",
   "pygments_lexer": "ipython3",
   "version": "3.8.18"
  },
  "toc": {
   "base_numbering": 1,
   "nav_menu": {},
   "number_sections": true,
   "sideBar": true,
   "skip_h1_title": false,
   "title_cell": "Table of Contents",
   "title_sidebar": "Contents",
   "toc_cell": false,
   "toc_position": {},
   "toc_section_display": true,
   "toc_window_display": false
  }
 },
 "nbformat": 4,
 "nbformat_minor": 5
}
